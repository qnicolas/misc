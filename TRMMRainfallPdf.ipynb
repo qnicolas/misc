{
 "cells": [
  {
   "cell_type": "code",
   "execution_count": 1,
   "metadata": {},
   "outputs": [],
   "source": [
    "import xarray as xr\n",
    "import numpy as np\n",
    "import matplotlib.pyplot as plt\n",
    "import glob\n",
    "import time\n",
    "\n",
    "import cartopy.crs as ccrs"
   ]
  },
  {
   "cell_type": "markdown",
   "metadata": {},
   "source": [
    "Background : The empirical p$^{th}$ percentile converges to the underying's dirstibution p$^{th}$ percentile asymptotically normally with standard deviation\n",
    "$$\\sigma = \\sqrt{\\dfrac{p(1-p)}{nf(x_p)^2}}$$\n",
    "\n",
    "Where $f$ is the distribution's density function and $x_p$ the p$^{th}$ percentile. Here we estimate $f$ for TRMM daily precipitation at 0.25° (then different resolutions); and deduce the number of data points that would be needed to get the p$^{th}$ percentile to within 1% accuracy, with 95% confidence.\n",
    "\n",
    "See https://en.wikipedia.org/wiki/Quantile#Estimating_quantiles_from_a_sample and https://minerve.ens-rennes.fr/images/Dev_TCL_quantile.pdf for a demonstration (in French) of that result"
   ]
  },
  {
   "cell_type": "code",
   "execution_count": 2,
   "metadata": {},
   "outputs": [],
   "source": [
    "%matplotlib inline"
   ]
  },
  {
   "cell_type": "code",
   "execution_count": 3,
   "metadata": {
    "scrolled": false
   },
   "outputs": [],
   "source": [
    "trmmpr = xr.open_mfdataset(sorted(glob.glob(\"/Users/quentin.nicolas/Desktop/Berkeley/OrogExtremes/data/TRMM/3B42_Daily*\")), combine=\"nested\",concat_dim='time')\n"
   ]
  },
  {
   "cell_type": "code",
   "execution_count": 4,
   "metadata": {},
   "outputs": [],
   "source": [
    "lsm=xr.open_dataset(\"/Users/quentin.nicolas/Desktop/Berkeley/OrogExtremes/data/ERA5Land_lsm.nc\")\n",
    "lsm.coords['longitude'] = (lsm.coords['longitude'] + 180) % 360 - 180\n",
    "lsm = lsm.sortby(lsm.longitude)"
   ]
  },
  {
   "cell_type": "code",
   "execution_count": 5,
   "metadata": {},
   "outputs": [],
   "source": [
    "tropicalpr = trmmpr.sel(lat=slice(-20.,20.)).precipitation\n",
    "lsm2=lsm.lsm.rename({'longitude':'lon','latitude':'lat'}).interp_like(tropicalpr.isel(time=0)).isel(time=0).drop('time')\n"
   ]
  },
  {
   "cell_type": "code",
   "execution_count": 6,
   "metadata": {},
   "outputs": [
    {
     "name": "stdout",
     "output_type": "stream",
     "text": [
      "11.22493290901184\n"
     ]
    }
   ],
   "source": [
    "t=time.time()\n",
    "test=np.array(tropicalpr)\n",
    "print(time.time()-t)"
   ]
  },
  {
   "cell_type": "code",
   "execution_count": 7,
   "metadata": {},
   "outputs": [],
   "source": [
    "#landtest=np.array()\n",
    "testland = np.array(tropicalpr.where(lsm2>0.1))\n",
    "testsea  = np.array(tropicalpr.where(lsm2<=0.1))"
   ]
  },
  {
   "cell_type": "code",
   "execution_count": 8,
   "metadata": {},
   "outputs": [],
   "source": [
    "testlandf = testland.flatten()\n",
    "testlandf=testlandf[~np.isnan(testlandf)]\n",
    "\n",
    "testseaf = testsea.flatten()\n",
    "testseaf=testseaf[~np.isnan(testseaf)]"
   ]
  },
  {
   "cell_type": "code",
   "execution_count": 9,
   "metadata": {},
   "outputs": [],
   "source": [
    "tropicalpr2=xr.DataArray(test,coords=tropicalpr.coords,dims=[\"time\",\"lon\",\"lat\"])"
   ]
  },
  {
   "cell_type": "code",
   "execution_count": 10,
   "metadata": {},
   "outputs": [],
   "source": [
    "def plot_hist(ds):\n",
    "    pdf,b,_=plt.hist(ds,bins=np.linspace(0.1,400,400),density=True)\n",
    "    plt.yscale('log')\n",
    "    bincenters=(b[:-1]+b[1:])/2.\n",
    "    \n",
    "    pct=99\n",
    "    pctile=np.quantile(ds,pct/100)\n",
    "    pdfpctile=pdf[np.argmin((bincenters-pctile)**2)]\n",
    "    \n",
    "    print(\"%i th percentile : %.1f mm/day\"%(pct,pctile))\n",
    "    print(\"Value of the PDF at that percentile : %.4f day/mm\"%(pdfpctile))\n",
    "    print(\"Number of data points needed to get this percentile within 1%% with 95%% confidence : %.2e\"%((2/(0.01*pctile))**2 *pct/100*(1-pct/100)/pdfpctile**2) )\n",
    "    \n",
    "    "
   ]
  },
  {
   "cell_type": "code",
   "execution_count": null,
   "metadata": {},
   "outputs": [],
   "source": [
    "print(\"My cross-eq domain's size : 60° lon x 140° lat = 5.25e6 4km grid cells, 1.46e5 24km grid cells\")"
   ]
  },
  {
   "cell_type": "code",
   "execution_count": 195,
   "metadata": {
    "scrolled": true
   },
   "outputs": [
    {
     "name": "stdout",
     "output_type": "stream",
     "text": [
      "99 th percentile : 54.8 mm/day\n",
      "Value of the PDF at that percentile : 0.0011 day/mm\n",
      "Number of data points needed to get this percentile within 1% with 95% confidence : 1.07e+05\n"
     ]
    },
    {
     "data": {
      "image/png": "[encoded data removed]",
      "text/plain": [
       "<Figure size 432x288 with 1 Axes>"
      ]
     },
     "metadata": {
      "needs_background": "light"
     },
     "output_type": "display_data"
    }
   ],
   "source": [
    "plot_hist(test.flatten())"
   ]
  },
  {
   "cell_type": "code",
   "execution_count": 196,
   "metadata": {
    "scrolled": true
   },
   "outputs": [
    {
     "name": "stdout",
     "output_type": "stream",
     "text": [
      "99 th percentile : 49.6 mm/day\n",
      "Value of the PDF at that percentile : 0.0015 day/mm\n",
      "Number of data points needed to get this percentile within 1% with 95% confidence : 7.47e+04\n"
     ]
    },
    {
     "data": {
      "image/png": "[encoded data removed]",
      "text/plain": [
       "<Figure size 432x288 with 1 Axes>"
      ]
     },
     "metadata": {
      "needs_background": "light"
     },
     "output_type": "display_data"
    }
   ],
   "source": [
    "plot_hist(testlandf)"
   ]
  },
  {
   "cell_type": "code",
   "execution_count": 197,
   "metadata": {
    "scrolled": false
   },
   "outputs": [
    {
     "name": "stdout",
     "output_type": "stream",
     "text": [
      "99 th percentile : 56.6 mm/day\n",
      "Value of the PDF at that percentile : 0.0010 day/mm\n",
      "Number of data points needed to get this percentile within 1% with 95% confidence : 1.22e+05\n"
     ]
    },
    {
     "data": {
      "image/png": "[encoded data removed]",
      "text/plain": [
       "<Figure size 432x288 with 1 Axes>"
      ]
     },
     "metadata": {
      "needs_background": "light"
     },
     "output_type": "display_data"
    }
   ],
   "source": [
    "plot_hist(testseaf)"
   ]
  },
  {
   "cell_type": "code",
   "execution_count": 198,
   "metadata": {},
   "outputs": [
    {
     "name": "stdout",
     "output_type": "stream",
     "text": [
      "99 th percentile : 51.8 mm/day\n",
      "Value of the PDF at that percentile : 0.0011 day/mm\n",
      "Number of data points needed to get this percentile within 1% with 95% confidence : 1.28e+05\n"
     ]
    },
    {
     "data": {
      "image/png": "[encoded data removed]",
      "text/plain": [
       "<Figure size 432x288 with 1 Axes>"
      ]
     },
     "metadata": {
      "needs_background": "light"
     },
     "output_type": "display_data"
    }
   ],
   "source": [
    "testcoarse=np.array(tropicalpr.coarsen(lat=2,lon=2, boundary=\"trim\").mean())\n",
    "plot_hist(testcoarse.flatten())"
   ]
  },
  {
   "cell_type": "code",
   "execution_count": 199,
   "metadata": {},
   "outputs": [
    {
     "name": "stdout",
     "output_type": "stream",
     "text": [
      "99 th percentile : 47.9 mm/day\n",
      "Value of the PDF at that percentile : 0.0010 day/mm\n",
      "Number of data points needed to get this percentile within 1% with 95% confidence : 1.63e+05\n"
     ]
    },
    {
     "data": {
      "image/png": "[encoded data removed]",
      "text/plain": [
       "<Figure size 432x288 with 1 Axes>"
      ]
     },
     "metadata": {
      "needs_background": "light"
     },
     "output_type": "display_data"
    }
   ],
   "source": [
    "testcoarse=np.array(tropicalpr.coarsen(lat=4,lon=4, boundary=\"trim\").mean())\n",
    "plot_hist(testcoarse.flatten())"
   ]
  },
  {
   "cell_type": "code",
   "execution_count": 200,
   "metadata": {},
   "outputs": [
    {
     "name": "stdout",
     "output_type": "stream",
     "text": [
      "99 th percentile : 42.5 mm/day\n",
      "Value of the PDF at that percentile : 0.0011 day/mm\n",
      "Number of data points needed to get this percentile within 1% with 95% confidence : 1.76e+05\n"
     ]
    },
    {
     "data": {
      "image/png": "[encoded data removed]",
      "text/plain": [
       "<Figure size 432x288 with 1 Axes>"
      ]
     },
     "metadata": {
      "needs_background": "light"
     },
     "output_type": "display_data"
    }
   ],
   "source": [
    "testcoarse=np.array(tropicalpr.coarsen(lat=8,lon=8, boundary=\"trim\").mean())\n",
    "plot_hist(testcoarse.flatten())"
   ]
  },
  {
   "cell_type": "code",
   "execution_count": 43,
   "metadata": {},
   "outputs": [
    {
     "data": {
      "text/plain": [
       "[<matplotlib.lines.Line2D at 0x7fb476eb4650>]"
      ]
     },
     "execution_count": 43,
     "metadata": {},
     "output_type": "execute_result"
    },
    {
     "data": {
      "image/png": "[encoded data removed]",
      "text/plain": [
       "<Figure size 720x360 with 1 Axes>"
      ]
     },
     "metadata": {
      "needs_background": "light"
     },
     "output_type": "display_data"
    }
   ],
   "source": [
    "_,ax=plt.subplots(1,1,figsize=(10,5))\n",
    "zonpr=tropicalpr2.mean(['time','lon'])\n",
    "ax.plot(zonpr)\n",
    "#tropicalpr2.mean(['time','lon']).plot(ax=ax,transform=ccrs.PlateCarree())\n",
    "#ax.imshow(test.mean(axis=0).transpose())"
   ]
  }
 ],
 "metadata": {
  "kernelspec": {
   "display_name": "Python 3",
   "language": "python",
   "name": "python3"
  },
  "language_info": {
   "codemirror_mode": {
    "name": "ipython",
    "version": 3
   },
   "file_extension": ".py",
   "mimetype": "text/x-python",
   "name": "python",
   "nbconvert_exporter": "python",
   "pygments_lexer": "ipython3",
   "version": "3.7.8"
  }
 },
 "nbformat": 4,
 "nbformat_minor": 4
}
